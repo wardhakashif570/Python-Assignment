{
 "cells": [
  {
   "cell_type": "markdown",
   "metadata": {},
   "source": [
    "# Question 1:Define Object Oriented Programming Language?"
   ]
  },
  {
   "cell_type": "markdown",
   "metadata": {},
   "source": [
    "Object-oriented programming (OOP) is a programming paradigm based on the concept of \"objects\", which can contain data, in the form of fields (often known as attributes or properties), and code, in the form of procedures (often known as methods). A feature of objects is an object's procedures that can access and often modify the data fields of the object with which they are associated (objects have a notion of \"this\" or \"self\"). In OOP, computer programs are designed by making them out of objects that interact with one another.OOP languages are diverse, but the most popular ones are class-based, meaning that objects are instances of classes, which also determine their types. Many of the most widely used programming languages (such as C++, Java, Python, etc.) are multi-paradigm and they support object-oriented programming to a greater or lesser degree, typically in combination with imperative, procedural programming. Significant object-oriented languages include Java, C++, C#, Python, PHP, JavaScript, Ruby, Perl, Object Pascal, Objective-C, Dart, Swift, Scala, Common Lisp, MATLAB, and Smalltalk. \n",
    "\n",
    "\n",
    "The Basic OOP Concepts If you are new to object-oriented programming languages, you will need to know a few basics before youcan get started with code. The following Webopedia definitions will help you better understand object-oriented programming: Abstraction: The process of picking out (abstracting) common features of objects and procedures.Abstraction: The process of picking out (abstracting) common features of objects and procedures.\n",
    " \n",
    " \n",
    "Class: A category of objects. The class defines all the common properties of the different objects that belong to it.\n",
    "Encapsulation: The process of combining elements to create a new entity. A procedure is a type of encapsulation because it combines a series of computer instructions.\n",
    "\n",
    "Information hiding: The process of hiding details of an object or function. Information hiding is a powerful programming technique because it reduces complexity.\n",
    "\n",
    "Inheritance: a feature that represents the \"is a\" relationship between different classes.\n",
    "\n",
    "Interface: the languages and codes that the applications use to communicate with each other and with the hardware.\n",
    "\n",
    "Messaging: Message passing is a form of communication used in parallel programming and object-oriented programming.\n",
    "\n",
    "Object: a self-contained entity that consists of both data and procedures to manipulate the data.\n",
    "\n",
    "Polymorphism: A programming language's ability to process objects differently depending on their data type or class.\n",
    "Procedure: a section of a program that performs a specific task"
   ]
  },
  {
   "cell_type": "markdown",
   "metadata": {},
   "source": [
    "# Question 2:List down the Benefits of OOP?"
   ]
  },
  {
   "cell_type": "code",
   "execution_count": null,
   "metadata": {},
   "outputs": [],
   "source": [
    "The advantages of object-oriented programming lie in this kind of encapsulation. Here’s a detailed look at some of OOP’s top benefits:\n",
    "\n",
    "1. Modularity for easier troubleshooting\n",
    "Something has gone wrong, and you have no idea where to look. Is the problem in the Widget file, or is it the WhaleFlumper? Will you have to trudge through that “sewage.c” file? Hope you commented your code!\n",
    "\n",
    "When working with object-oriented programming languages, you know exactly where to look. “Oh, the car object broke down? The problem must be in the Car class!” You don’t have to muck through anything else.\n",
    "\n",
    "That’s the beauty of encapsulation. Objects are self-contained, and each bit of functionality does its own thing while leaving the other bits alone. Also, this modality allows an IT team to work on multiple objects simultaneously while minimizing the chance that one person might duplicate someone else’s functionality.\n",
    "\n",
    "\n",
    "2. Reuse of code through inheritance\n",
    "Suppose that in addition to your Car object, one colleague needs a RaceCar object, and another needs a Limousine object. Everyone builds their objects separately but discover commonalities between them. In fact, each object is really just a different kind of Car. This is where the inheritance technique saves time: Create one generic class (Car), and then define the subclasses (RaceCar and Limousine) that are to inherit the generic class’s traits.\n",
    "\n",
    "Of course, Limousine and RaceCar still have their unique attributes and functions. If the RaceCar object needs a method to “fireAfterBurners” and the Limousine object requires a Chauffeur, each class could implement separate functions just for itself. However, because both classes inherit key aspects from the Car class, for example the “drive” or “fillUpGas” methods, your inheriting classes can simply reuse existing code instead of writing these functions all over again.\n",
    "\n",
    "What if you want to make a change to all Car objects, regardless of type? This is another advantage of the OO approach. Simply make a change to your Car class, and all car objects will simply inherit the new code.\n",
    "\n",
    "3. Flexibility through polymorphism\n",
    "Riffing on this example, you now need just a few drivers, or functions, like “driveCar,” driveRaceCar” and “DriveLimousine.” RaceCarDrivers share some traits with LimousineDrivers, but other things, like RaceHelmets and BeverageSponsorships, are unique.\n",
    "\n",
    "This is where object-oriented programming’s sweet polymorphism comes into play. Because a single function can shape-shift to adapt to whichever class it’s in, you could create one function in the parent Car class called “drive” — not “driveCar” or “driveRaceCar,” but just “drive.” This one function would work with the RaceCarDriver, LimousineDriver, etc. In fact, you could even have “raceCar.drive(myRaceCarDriver)” or “limo.drive(myChauffeur).”\n",
    "\n",
    "4. Effective problem solving\n",
    "A language like C has an amazing legacy in programming history, but writing software in a top-down language is like playing Jenga while wearing mittens. The more complex it gets, the greater the chance it will collapse. Meanwhile, writing a functional-style program in a language like Haskell or ML can be a chore.\n",
    "\n",
    "Object-oriented programming is often the most natural and pragmatic approach, once you get the hang of it. OOP languages allows you to break down your software into bite-sized problems that you then can solve — one object at a time.\n",
    "\n",
    "This isn’t to say that OOP is the One True Way. However, the advantages of object-oriented programming are many. When you need to solve complex programming challenges and want to add code tools to your skill set, OOP is your friend — and has much greater longevity and utility than Pac-Man or parachute pants."
   ]
  },
  {
   "cell_type": "markdown",
   "metadata": {},
   "source": [
    "# Question 3:Differentiate between function and method?"
   ]
  },
  {
   "cell_type": "code",
   "execution_count": null,
   "metadata": {},
   "outputs": [],
   "source": [
    "A function is a piece of code that is called by name. It can be passed data to operate on (i.e. the parameters) and can optionally return data (the return value). All data that is passed to a function is explicitly passed.\n",
    "\n",
    "A method is a piece of code that is called by a name that is associated with an object. In most respects it is identical to a function except for two key differences:\n",
    "\n",
    "A method is implicitly passed the object on which it was called.\n",
    "\n",
    "A method is able to operate on data that is contained within the class (remembering that an object is an instance of a class - the class is the definition, the object is an instance of that data)"
   ]
  },
  {
   "cell_type": "markdown",
   "metadata": {},
   "source": [
    "# Question 4:Define the following terms: 1. Class 2. Object 3. Attribute 4. Behavior"
   ]
  },
  {
   "cell_type": "code",
   "execution_count": null,
   "metadata": {},
   "outputs": [],
   "source": [
    "Class:In object-oriented programming, a class is a blueprint for creating objects (a particular data structure), providing initial values for state (member variables or attributes), and implementations of behavior (member functions or methods). The user-defined objects are created using the class keyword\n",
    "    \n",
    "Object:an object is a specific instance of a class; it contains real values instead of variables.\n",
    "\n",
    "Attribute:In Object-oriented programming(OOP), classes and objects have attributes. Attributes are data stored inside a class or instance and represent the state or quality of the class or instance. In short, attributes store information about the instance\n",
    "    \n",
    "Behavior: A class's behavior determines how an instance of that class operates; for example, how it will \"react\" if asked to do something by another class or object or if its internal state changes. Behavior is the only way objects can do anything to themselves or have anything done to them4\n",
    "    "
   ]
  },
  {
   "cell_type": "markdown",
   "metadata": {},
   "source": [
    "# Question 5: Write a code in python in which create a class named it Car which have 5 attributes such like (model, color and name etc.) and 3 methods. And create 5 object instance from that class."
   ]
  },
  {
   "cell_type": "code",
   "execution_count": 10,
   "metadata": {},
   "outputs": [
    {
     "name": "stdout",
     "output_type": "stream",
     "text": [
      "7\n",
      "red\n",
      "12\n",
      "black\n"
     ]
    }
   ],
   "source": [
    "class Car(object):\n",
    "    def __init__(self, model, passengers, color, speed,num):\n",
    "        self.model = model\n",
    "        self.passengers = passengers\n",
    "        self.color = color\n",
    "        self.speed = speed\n",
    "        self.num=num\n",
    "\n",
    "    def accelerate(self):\n",
    "        self.speed = self.speed + 2\n",
    "        print (self.speed)\n",
    "    def start(self):\n",
    "        print (\"Engine started\")\n",
    "\n",
    "    def stop(self):\n",
    "        print (\"Engine switched off\")\n",
    "\n",
    "bmw = Car(\"BMW\", 4, \"red\", 5,345)\n",
    "ferrari = Car(\"Ferrari\", 2, \"black\", 10,346)\n",
    "ford = Car(\"Ford\", 6, \"blue\", 6,347)\n",
    "corolla = Car(\"Corolla\", 2, \"black\", 10,347)\n",
    "vitz= Car(\"Vitz\", 6, \"blue\", 6,348)\n",
    "bmw.accelerate()\n",
    "print (bmw.color)\n",
    "\n",
    "ferrari.accelerate()\n",
    "print (ferrari.color)\n"
   ]
  },
  {
   "cell_type": "code",
   "execution_count": null,
   "metadata": {},
   "outputs": [],
   "source": []
  }
 ],
 "metadata": {
  "kernelspec": {
   "display_name": "Python 3",
   "language": "python",
   "name": "python3"
  },
  "language_info": {
   "codemirror_mode": {
    "name": "ipython",
    "version": 3
   },
   "file_extension": ".py",
   "mimetype": "text/x-python",
   "name": "python",
   "nbconvert_exporter": "python",
   "pygments_lexer": "ipython3",
   "version": "3.7.3"
  }
 },
 "nbformat": 4,
 "nbformat_minor": 2
}
