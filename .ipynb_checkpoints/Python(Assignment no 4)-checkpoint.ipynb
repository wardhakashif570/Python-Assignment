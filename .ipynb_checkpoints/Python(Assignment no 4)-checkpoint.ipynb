{
 "cells": [
  {
   "cell_type": "markdown",
   "metadata": {},
   "source": [
    "# Question1:Use a dictionary to store information about a person you know. Store their first name, last name, age, and the city in which they live. You should have keys such as first_name, last_name, age, and city. Print each piece of information stored in your dictionary. Add a new key value pair about qualification then update the qualification value to high academic level then delete it.\n"
   ]
  },
  {
   "cell_type": "code",
   "execution_count": null,
   "metadata": {},
   "outputs": [],
   "source": [
    "Person={\n",
    "  \"first_name\":\"Wardha\",\n",
    "  \"last_name\":\"Kashif\",\n",
    "   \"age\":20,\n",
    "   \"city\":\"Karachi\",\n",
    "}\n",
    "Person"
   ]
  },
  {
   "cell_type": "code",
   "execution_count": null,
   "metadata": {},
   "outputs": [],
   "source": [
    "Person[\"qualification\"]=\"High level\"\n",
    "Person"
   ]
  },
  {
   "cell_type": "code",
   "execution_count": null,
   "metadata": {},
   "outputs": [],
   "source": [
    "del Person[\"qualification\"]\n",
    "Person"
   ]
  },
  {
   "cell_type": "markdown",
   "metadata": {},
   "source": [
    "# Question2:Make a dictionary called cities. Use the names of three cities as keys in your dictionary. Create a dictionary of information about each city and include the country that the city is in, its approximate population, and one fact about that city. The keys for each city’s dictionary should be something like country, population, and fact. Print the name of each city and all of the information you have stored about it.\n"
   ]
  },
  {
   "cell_type": "code",
   "execution_count": null,
   "metadata": {},
   "outputs": [],
   "source": [
    "Cities={\n",
    "   \"Karachi\":\n",
    "    {\n",
    "     \"country\":\"Pakistan\",   \n",
    "     \"Population\":5678000,\n",
    "     \"Title\":\"The City of Light\"\n",
    "    },\n",
    "     \"Sydney\":\n",
    "    {\n",
    "     \"country\":\"Australia\",      \n",
    "     \"Population\":4678000,\n",
    "     \"Title\":\"The City of Garden\"\n",
    "    },\n",
    "     \"Islamabad\":\n",
    "    {\n",
    "      \"country\":\"Pakistan\",   \n",
    "     \"Population\":5678000,\n",
    "     \"Title\":\"The City of Peace\"\n",
    "    },\n",
    "    \n",
    "}\n",
    "Cities"
   ]
  },
  {
   "cell_type": "code",
   "execution_count": null,
   "metadata": {},
   "outputs": [],
   "source": [
    "for city,each_city in Cities.items():\n",
    "    country=each_city[\"country\"]\n",
    "    Population=each_city[\"Population\"]\n",
    "    Title=each_city[\"Title\"]\n",
    "    \n",
    "    print( city + \" is in the Country \" + country)\n",
    "    print(\"The population of the city is  \" + str(Population))\n",
    "    print(\"The Title of the city is  \" +   Title + \"\\n\\n\")\n",
    "    "
   ]
  },
  {
   "cell_type": "markdown",
   "metadata": {},
   "source": [
    "# Question3:A movie theater charges different ticket prices depending on a person’s age. If a person is under the age of 3, the ticket is free; if they are between 3 and 12, the ticket is $10; and if they are over age 12, the ticket is $15. Write a loop in which you ask users their age, and then tell them the cost of their movie ticket.\n"
   ]
  },
  {
   "cell_type": "code",
   "execution_count": null,
   "metadata": {},
   "outputs": [],
   "source": [
    "while True:\n",
    "    Age=int(input(\"Enter your age and Click 0 if you want to quit \"))\n",
    "    if Age == 0:\n",
    "        break\n",
    "    elif Age>0 and Age<3:\n",
    "        print(\"The ticket is Free\")\n",
    "    elif Age>=3 and Age<12:\n",
    "        print(\"The cost of the  movie is $10\")\n",
    "    else:\n",
    "        print(\"The cost of the ticket is $15\" )"
   ]
  },
  {
   "cell_type": "markdown",
   "metadata": {},
   "source": [
    "# Question4:Write a function called favorite_book() that accepts one parameter, title. The function should print a message, such as One of my favorite books is Alice in Wonderland. Call the function, making sure to include a book title as an argument in the function call.\n"
   ]
  },
  {
   "cell_type": "code",
   "execution_count": null,
   "metadata": {},
   "outputs": [],
   "source": [
    "def favorite_book(fbook):\n",
    "    print(\"One of my favorite books is \" + fbook)\n",
    "favorite_book(\"Alice in Wonderland\")"
   ]
  },
  {
   "cell_type": "markdown",
   "metadata": {},
   "source": [
    "\n",
    "# Question5:Guess the number game Write a program which randomly generate a number between 1 to 30 and ask the user in input field to guess the correct number. Give three chances to user guess the number and also give hint to user if hidden number is greater or smaller than the number he given to input field.\n"
   ]
  },
  {
   "cell_type": "code",
   "execution_count": 5,
   "metadata": {},
   "outputs": [
    {
     "name": "stdout",
     "output_type": "stream",
     "text": [
      "Guess the Correct Number between 1 till 30  23\n",
      "HINT : The Number is Smaller than Your Input\n",
      "Guess the Correct Number between 1 till 30  12\n",
      "HINT : The Number is Smaller than Your Input\n",
      "Guess the Correct Number between 1 till 30  7\n",
      "HINT : The Number is Greater than Your Input\n",
      "Sorry You Fail\n",
      " The correct Number is  8\n"
     ]
    }
   ],
   "source": [
    "import random\n",
    "number=random.randrange(1,30)\n",
    "sum1=0;\n",
    "while sum1<3:\n",
    "    \n",
    "    user_input=int(input(\"Guess the Correct Number between 1 till 30  \"))\n",
    "    sum1=sum1+1 \n",
    "    if user_input==number:\n",
    "        print(\"Congratulation You win The game\")\n",
    "        break\n",
    "    elif user_input > number:\n",
    "        print(\"HINT : The Number is Smaller than Your Input\")\n",
    "    elif user_input < number:\n",
    "        print(\"HINT : The Number is Greater than Your Input\")\n",
    "if user_input!=number: \n",
    "    print(\"Sorry You Fail\\n The correct Number is  \" + str(number))\n",
    "   \n",
    "       \n",
    "    \n",
    "    "
   ]
  },
  {
   "cell_type": "code",
   "execution_count": null,
   "metadata": {},
   "outputs": [],
   "source": []
  },
  {
   "cell_type": "code",
   "execution_count": null,
   "metadata": {},
   "outputs": [],
   "source": []
  }
 ],
 "metadata": {
  "kernelspec": {
   "display_name": "Python 3",
   "language": "python",
   "name": "python3"
  },
  "language_info": {
   "codemirror_mode": {
    "name": "ipython",
    "version": 3
   },
   "file_extension": ".py",
   "mimetype": "text/x-python",
   "name": "python",
   "nbconvert_exporter": "python",
   "pygments_lexer": "ipython3",
   "version": "3.7.3"
  }
 },
 "nbformat": 4,
 "nbformat_minor": 2
}
