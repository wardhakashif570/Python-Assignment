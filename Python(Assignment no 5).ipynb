{
 "cells": [
  {
   "cell_type": "markdown",
   "metadata": {},
   "source": [
    "# Question:1Write a Python function to calculate the factorial of a number (a non-negativeinteger). The function accepts the number as an argument."
   ]
  },
  {
   "cell_type": "code",
   "execution_count": 7,
   "metadata": {},
   "outputs": [
    {
     "name": "stdout",
     "output_type": "stream",
     "text": [
      "The factorial of the number is 5040\n"
     ]
    }
   ],
   "source": [
    "\n",
    "\n",
    "def factorial(num):\n",
    "    fact=1\n",
    "    if num < 0:\n",
    "        print(\"No factorial for negative Number\")\n",
    "    elif num == 0:\n",
    "        print(\"The factorial of 0 is 1\")\n",
    "    else:\n",
    "        for i in range(1,num + 1):\n",
    "             fact=fact * i\n",
    "        print(\"The factorial of the number is \" + str(fact))\n",
    "factorial(7)"
   ]
  },
  {
   "cell_type": "markdown",
   "metadata": {},
   "source": [
    "# By Recursion"
   ]
  },
  {
   "cell_type": "code",
   "execution_count": 8,
   "metadata": {},
   "outputs": [
    {
     "name": "stdout",
     "output_type": "stream",
     "text": [
      "The factorail of a number is 120\n"
     ]
    }
   ],
   "source": [
    "def fact(num):\n",
    "    if num == 0:\n",
    "        return 1\n",
    "    else:\n",
    "        return num * fact(num -1)\n",
    "cal = fact(5)\n",
    "print(\"The factorail of a number is \" + str(cal))"
   ]
  },
  {
   "cell_type": "markdown",
   "metadata": {},
   "source": [
    "# Question 2 Write a Python function that accepts a string and calculate the number of uppercase letters and lower case letters."
   ]
  },
  {
   "cell_type": "code",
   "execution_count": 9,
   "metadata": {},
   "outputs": [
    {
     "name": "stdout",
     "output_type": "stream",
     "text": [
      "Total no of Upper case letter is 3\n",
      "Total no of Lower case letter is 11\n"
     ]
    }
   ],
   "source": [
    "\n",
    "def cal_ul(string):\n",
    "    upr=0\n",
    "    lwr=0\n",
    "    for i in string:\n",
    "        if i.isupper():\n",
    "            upr=upr + 1\n",
    "        elif i.islower():\n",
    "            lwr=lwr + 1\n",
    "    print(\"Total no of Upper case letter is \" + str(upr))\n",
    "    print(\"Total no of Lower case letter is \" + str(lwr))      \n",
    "cal_ul(\"My Name is Wardha\")\n"
   ]
  },
  {
   "cell_type": "markdown",
   "metadata": {},
   "source": [
    "# Question:3 Write a Python function to print the even numbers from a given list."
   ]
  },
  {
   "cell_type": "code",
   "execution_count": 10,
   "metadata": {},
   "outputs": [
    {
     "name": "stdout",
     "output_type": "stream",
     "text": [
      "Even no :2\n",
      "Even no :4\n",
      "Even no :6\n",
      "Even no :8\n"
     ]
    }
   ],
   "source": [
    "city_index=[1,2,3,4,5,6,7,8]\n",
    "for i in city_index:\n",
    "    if i % 2 == 0:\n",
    "        print(\"Even no :\" + str(i))\n",
    "    "
   ]
  },
  {
   "cell_type": "markdown",
   "metadata": {},
   "source": [
    "# Question:4 Write a Python function that checks whether a passed string is palindrome or not.Note: A palindrome is a word, phrase, or sequence that reads the samebackward as forward, e.g., madam"
   ]
  },
  {
   "cell_type": "code",
   "execution_count": 11,
   "metadata": {},
   "outputs": [
    {
     "name": "stdout",
     "output_type": "stream",
     "text": [
      "Enter a stringwarda\n",
      "The string is  not Palindrome\n"
     ]
    }
   ],
   "source": [
    "def check_str(string):\n",
    "    rev=string[::-1]\n",
    "    if string == rev:\n",
    "        print(\"The string is Palindrome \")\n",
    "    else:\n",
    "        print(\"The string is  not Palindrome\")\n",
    "    \n",
    "a=input(\"Enter a string\")\n",
    "check_str(a)"
   ]
  },
  {
   "cell_type": "code",
   "execution_count": 12,
   "metadata": {},
   "outputs": [
    {
     "name": "stdout",
     "output_type": "stream",
     "text": [
      "Enter a string   madam\n",
      "The string is Palindrome \n"
     ]
    }
   ],
   "source": [
    "def check_str(string):\n",
    "    rev=string[::-1]\n",
    "    if string == rev:\n",
    "        print(\"The string is Palindrome \")\n",
    "    else:\n",
    "        print(\"The string is  not Palindrome\")\n",
    "    \n",
    "a=input(\"Enter a string   \")\n",
    "check_str(a)"
   ]
  },
  {
   "cell_type": "markdown",
   "metadata": {},
   "source": [
    "# Question:5Write a Python function that takes a number as a parameter and check thenumber is prime or not."
   ]
  },
  {
   "cell_type": "code",
   "execution_count": 24,
   "metadata": {},
   "outputs": [
    {
     "name": "stdout",
     "output_type": "stream",
     "text": [
      "Enter a Number to check weather it is prime or not 5\n"
     ]
    },
    {
     "data": {
      "text/plain": [
       "True"
      ]
     },
     "execution_count": 24,
     "metadata": {},
     "output_type": "execute_result"
    }
   ],
   "source": [
    "def chk_prime(num):\n",
    "    if num == 1:\n",
    "        return False\n",
    "    elif num == 2:\n",
    "        return True\n",
    "    else:\n",
    "        for i in range(2,num):\n",
    "            if(num % i == 0):\n",
    "                return False\n",
    "        return True  \n",
    "num=int(input(\"Enter a Number to check weather it is prime or not \"))\n",
    "chk_prime(num)"
   ]
  },
  {
   "cell_type": "markdown",
   "metadata": {},
   "source": [
    "# Question: 6Suppose a customer is shopping in a market and you need to print all the itemswhich user bought from market.Write a function which accepts the multiple arguments of user shopping list and print all the items which user bought from market.(Hint: Arbitrary Argument concept can make this task ease)\n",
    "\n",
    "\n"
   ]
  },
  {
   "cell_type": "code",
   "execution_count": 6,
   "metadata": {},
   "outputs": [
    {
     "name": "stdout",
     "output_type": "stream",
     "text": [
      "The egg is : 3 dozen\n",
      "The Sanitizer is : 1 bottle\n",
      "makeup: lipstick\n",
      "oil: 4 litre\n",
      "detergent: Ariel\n"
     ]
    }
   ],
   "source": [
    "def display_item(egg,Sanitizer, **other_info):\n",
    "    print(\"The egg is : \" + egg)\n",
    "    print(\"The Sanitizer is : \" + Sanitizer)\n",
    "    for key, value in other_info.items():\n",
    "        print(key + \": \" + value)\n",
    "\n",
    "display_item(egg=\"3 dozen\", Sanitizer=\"1 bottle\",makeup =\"lipstick\", oil=\"4 litre\",detergent='Ariel',)"
   ]
  },
  {
   "cell_type": "code",
   "execution_count": null,
   "metadata": {},
   "outputs": [],
   "source": []
  }
 ],
 "metadata": {
  "kernelspec": {
   "display_name": "Python 3",
   "language": "python",
   "name": "python3"
  },
  "language_info": {
   "codemirror_mode": {
    "name": "ipython",
    "version": 3
   },
   "file_extension": ".py",
   "mimetype": "text/x-python",
   "name": "python",
   "nbconvert_exporter": "python",
   "pygments_lexer": "ipython3",
   "version": "3.7.3"
  }
 },
 "nbformat": 4,
 "nbformat_minor": 2
}
